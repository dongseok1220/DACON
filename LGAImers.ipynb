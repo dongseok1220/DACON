{
  "cells": [
    {
      "cell_type": "markdown",
      "metadata": {
        "id": "view-in-github",
        "colab_type": "text"
      },
      "source": [
        "<a href=\"https://colab.research.google.com/github/sgu20191619/DACON/blob/main/LGAImers.ipynb\" target=\"_parent\"><img src=\"https://colab.research.google.com/assets/colab-badge.svg\" alt=\"Open In Colab\"/></a>"
      ]
    },
    {
      "cell_type": "markdown",
      "source": [],
      "metadata": {
        "id": "3L8Zgtr2qGYq"
      }
    },
    {
      "cell_type": "code",
      "source": [
        "!pip install xgboost"
      ],
      "metadata": {
        "colab": {
          "base_uri": "https://localhost:8080/"
        },
        "id": "hu6OEKc4QE8k",
        "outputId": "4b77df0c-62de-4854-86bd-f25f9dbe0646"
      },
      "execution_count": 256,
      "outputs": [
        {
          "output_type": "stream",
          "name": "stdout",
          "text": [
            "Looking in indexes: https://pypi.org/simple, https://us-python.pkg.dev/colab-wheels/public/simple/\n",
            "Requirement already satisfied: xgboost in /usr/local/lib/python3.8/dist-packages (0.90)\n",
            "Requirement already satisfied: numpy in /usr/local/lib/python3.8/dist-packages (from xgboost) (1.21.6)\n",
            "Requirement already satisfied: scipy in /usr/local/lib/python3.8/dist-packages (from xgboost) (1.7.3)\n"
          ]
        }
      ]
    },
    {
      "cell_type": "code",
      "execution_count": 257,
      "metadata": {
        "id": "cCJFi_13gzy6",
        "colab": {
          "base_uri": "https://localhost:8080/"
        },
        "outputId": "4b90a959-206a-4ec3-d6ca-359b2284c5c3"
      },
      "outputs": [
        {
          "output_type": "stream",
          "name": "stdout",
          "text": [
            "Drive already mounted at /content/drive; to attempt to forcibly remount, call drive.mount(\"/content/drive\", force_remount=True).\n"
          ]
        }
      ],
      "source": [
        "from google.colab import drive\n",
        "drive.mount('/content/drive')"
      ]
    },
    {
      "cell_type": "code",
      "execution_count": 258,
      "metadata": {
        "id": "QOG77ByjpEqu",
        "colab": {
          "base_uri": "https://localhost:8080/",
          "height": 35
        },
        "outputId": "ae975335-a692-4c30-85c1-3e13f41ac063"
      },
      "outputs": [
        {
          "output_type": "execute_result",
          "data": {
            "text/plain": [
              "'1.0.2'"
            ],
            "application/vnd.google.colaboratory.intrinsic+json": {
              "type": "string"
            }
          },
          "metadata": {},
          "execution_count": 258
        }
      ],
      "source": [
        "import sklearn\n",
        "sklearn.__version__"
      ]
    },
    {
      "cell_type": "code",
      "execution_count": 259,
      "metadata": {
        "id": "Qf9erDPOSOLr"
      },
      "outputs": [],
      "source": [
        "import pandas as pd\n",
        "import numpy as np\n",
        "import matplotlib as mpl\n",
        "import matplotlib.pyplot as plt\n",
        "import seaborn as sns\n",
        "from collections import Counter"
      ]
    },
    {
      "cell_type": "code",
      "execution_count": 260,
      "metadata": {
        "id": "z14W_UOZYbxJ"
      },
      "outputs": [],
      "source": [
        "train_df = pd.read_csv(\"/content/drive/MyDrive/LGAimers/train.csv\")\n",
        "test_df = pd.read_csv(\"/content/drive/MyDrive/LGAimers/test.csv\")"
      ]
    },
    {
      "cell_type": "code",
      "source": [
        "train_df = train_df.drop(columns=['PRODUCT_ID', 'TIMESTAMP'])\n",
        "test_df = test_df.drop(columns=['PRODUCT_ID', 'TIMESTAMP'])\n",
        "\n",
        "from sklearn.preprocessing import LabelEncoder\n",
        "\n",
        "qual_col = ['LINE', 'PRODUCT_CODE']\n",
        "\n",
        "for i in qual_col:\n",
        "    le = LabelEncoder()\n",
        "    le = le.fit(train_df[i])\n",
        "    train_df[i] = le.transform(train_df[i])\n",
        "    \n",
        "    for label in np.unique(test_df[i]): \n",
        "        if label not in le.classes_: \n",
        "            le.classes_ = np.append(le.classes_, label)\n",
        "    test_df[i] = le.transform(test_df[i]) \n",
        "print('Done.')"
      ],
      "metadata": {
        "id": "SbXYV-oIKnXm",
        "colab": {
          "base_uri": "https://localhost:8080/"
        },
        "outputId": "7b6d1f59-b4ce-4220-d57e-ad211a4d7d8f"
      },
      "execution_count": 261,
      "outputs": [
        {
          "output_type": "stream",
          "name": "stdout",
          "text": [
            "Done.\n"
          ]
        }
      ]
    },
    {
      "cell_type": "code",
      "execution_count": 262,
      "metadata": {
        "id": "PF7Amq40qmow"
      },
      "outputs": [],
      "source": [
        "def print_statistics(df, col):\n",
        "\n",
        "  max = df[col].max()\n",
        "  min = df[col].min()\n",
        "  mean = df[col].mean()\n",
        "  median = df[col].median()\n",
        "\n",
        "  print(f'{col}의 최대값 : {max}')\n",
        "  print(f'{col}의 최소값 : {min}')\n",
        "  print(f'{col}의 평균값 : {mean}')\n",
        "  print(f'{col}의 중앙값 : {median}')"
      ]
    },
    {
      "cell_type": "code",
      "execution_count": 263,
      "metadata": {
        "id": "rCqdfux5ch_G"
      },
      "outputs": [],
      "source": [
        "def value_hist(df, col, target='Y_Quality'):\n",
        "\n",
        "  for value in df[col].unique():\n",
        "\n",
        "    cond = (df[col]==value)\n",
        "    cond_df = df.loc[cond]\n",
        "\n",
        "    print(f'{value} 데이터 갯수 : {cond_df.shape[0]}')\n",
        "    print_statistics(cond_df, target)\n",
        "\n",
        "    fig, ax = plt.subplots(ncols=2, figsize=(13, 6))\n",
        "\n",
        "    sns.histplot(data=cond_df, x='Y_Quality', ax=ax[0])\n",
        "    ax[0].set_title(f'{col} {value}')\n",
        "    ax[0].set_xticks(range(0,int(df[target].max()+1)), 20)\n",
        "\n",
        "    sns.boxplot(data=cond_df, x='Y_Quality', ax=ax[1])\n",
        "    ax[1].set_title(f'{col} {value} Box Plot')\n",
        "    \n",
        "    plt.show()"
      ]
    },
    {
      "cell_type": "code",
      "execution_count": 264,
      "metadata": {
        "id": "GKFs8mosqXcH"
      },
      "outputs": [],
      "source": [
        "def value_hist2(df, col, target='Y_Class'):\n",
        "\n",
        "  for value in df[col].unique():\n",
        "\n",
        "    cond = (df[col]==value)\n",
        "    cond_df = df.loc[cond]\n",
        "\n",
        "    print(f'{value} 데이터 갯수 : {cond_df.shape[0]}')\n",
        "    print_statistics(cond_df, target)\n",
        "\n",
        "    fig, ax = plt.subplots(ncols=2, figsize=(13, 6))\n",
        "\n",
        "    sns.histplot(data=cond_df, x='Y_Class', ax=ax[0])\n",
        "    ax[0].set_title(f'{col} {value}')\n",
        "    ax[0].set_xticks(range(0,int(df[target].max()+1)), 20)\n",
        "\n",
        "    sns.boxplot(data=cond_df, x='Y_Class', ax=ax[1])\n",
        "    ax[1].set_title(f'{col} {value} Box Plot')\n",
        "    \n",
        "    plt.show()"
      ]
    },
    {
      "cell_type": "code",
      "execution_count": 265,
      "metadata": {
        "id": "OkuOFN-LcRb5",
        "colab": {
          "base_uri": "https://localhost:8080/",
          "height": 1000
        },
        "outputId": "7801fdff-97d0-42c8-8795-7b1ad276ebe0"
      },
      "outputs": [
        {
          "output_type": "stream",
          "name": "stdout",
          "text": [
            "1 데이터 갯수 : 407\n",
            "Y_Quality의 최대값 : 0.534842857\n",
            "Y_Quality의 최소값 : 0.525085714\n",
            "Y_Quality의 평균값 : 0.5302534412850123\n",
            "Y_Quality의 중앙값 : 0.530307937\n"
          ]
        },
        {
          "output_type": "stream",
          "name": "stderr",
          "text": [
            "<ipython-input-263-2faa018d6214>:15: MatplotlibDeprecationWarning: Passing the minor parameter of set_xticks() positionally is deprecated since Matplotlib 3.2; the parameter will become keyword-only two minor releases later.\n",
            "  ax[0].set_xticks(range(0,int(df[target].max()+1)), 20)\n"
          ]
        },
        {
          "output_type": "display_data",
          "data": {
            "text/plain": [
              "<Figure size 936x432 with 2 Axes>"
            ],
            "image/png": "[encoded data removed]"
          },
          "metadata": {
            "needs_background": "light"
          }
        },
        {
          "output_type": "stream",
          "name": "stdout",
          "text": [
            "2 데이터 갯수 : 103\n",
            "Y_Quality의 최대값 : 0.57884127\n",
            "Y_Quality의 최소값 : 0.534950794\n",
            "Y_Quality의 평균값 : 0.5420308521844659\n",
            "Y_Quality의 중앙값 : 0.538507937\n"
          ]
        },
        {
          "output_type": "stream",
          "name": "stderr",
          "text": [
            "<ipython-input-263-2faa018d6214>:15: MatplotlibDeprecationWarning: Passing the minor parameter of set_xticks() positionally is deprecated since Matplotlib 3.2; the parameter will become keyword-only two minor releases later.\n",
            "  ax[0].set_xticks(range(0,int(df[target].max()+1)), 20)\n"
          ]
        },
        {
          "output_type": "display_data",
          "data": {
            "text/plain": [
              "<Figure size 936x432 with 2 Axes>"
            ],
            "image/png": "[encoded data removed]"
          },
          "metadata": {
            "needs_background": "light"
          }
        },
        {
          "output_type": "stream",
          "name": "stdout",
          "text": [
            "0 데이터 갯수 : 88\n",
            "Y_Quality의 최대값 : 0.525066667\n",
            "Y_Quality의 최소값 : 0.500855556\n",
            "Y_Quality의 평균값 : 0.5208367966249999\n",
            "Y_Quality의 중앙값 : 0.5220539685000001\n"
          ]
        },
        {
          "output_type": "stream",
          "name": "stderr",
          "text": [
            "<ipython-input-263-2faa018d6214>:15: MatplotlibDeprecationWarning: Passing the minor parameter of set_xticks() positionally is deprecated since Matplotlib 3.2; the parameter will become keyword-only two minor releases later.\n",
            "  ax[0].set_xticks(range(0,int(df[target].max()+1)), 20)\n"
          ]
        },
        {
          "output_type": "display_data",
          "data": {
            "text/plain": [
              "<Figure size 936x432 with 2 Axes>"
            ],
            "image/png": "[encoded data removed]"
          },
          "metadata": {
            "needs_background": "light"
          }
        }
      ],
      "source": [
        "value_hist(train_df,\"Y_Class\")"
      ]
    },
    {
      "cell_type": "code",
      "execution_count": 266,
      "metadata": {
        "id": "MQV8YTOec-9E",
        "colab": {
          "base_uri": "https://localhost:8080/",
          "height": 1000
        },
        "outputId": "a286cbf7-d650-4f73-d7e3-5c40eabf3ff9"
      },
      "outputs": [
        {
          "output_type": "stream",
          "name": "stdout",
          "text": [
            "0 데이터 갯수 : 249\n",
            "Y_Class의 최대값 : 2\n",
            "Y_Class의 최소값 : 0\n",
            "Y_Class의 평균값 : 1.0441767068273093\n",
            "Y_Class의 중앙값 : 1.0\n"
          ]
        },
        {
          "output_type": "stream",
          "name": "stderr",
          "text": [
            "<ipython-input-264-3ac6e3c47aca>:15: MatplotlibDeprecationWarning: Passing the minor parameter of set_xticks() positionally is deprecated since Matplotlib 3.2; the parameter will become keyword-only two minor releases later.\n",
            "  ax[0].set_xticks(range(0,int(df[target].max()+1)), 20)\n"
          ]
        },
        {
          "output_type": "display_data",
          "data": {
            "text/plain": [
              "<Figure size 936x432 with 2 Axes>"
            ],
            "image/png": "[encoded data removed]"
          },
          "metadata": {
            "needs_background": "light"
          }
        },
        {
          "output_type": "stream",
          "name": "stdout",
          "text": [
            "2 데이터 갯수 : 343\n",
            "Y_Class의 최대값 : 2\n",
            "Y_Class의 최소값 : 0\n",
            "Y_Class의 평균값 : 1.0058309037900874\n",
            "Y_Class의 중앙값 : 1.0\n"
          ]
        },
        {
          "output_type": "stream",
          "name": "stderr",
          "text": [
            "<ipython-input-264-3ac6e3c47aca>:15: MatplotlibDeprecationWarning: Passing the minor parameter of set_xticks() positionally is deprecated since Matplotlib 3.2; the parameter will become keyword-only two minor releases later.\n",
            "  ax[0].set_xticks(range(0,int(df[target].max()+1)), 20)\n"
          ]
        },
        {
          "output_type": "display_data",
          "data": {
            "text/plain": [
              "<Figure size 936x432 with 2 Axes>"
            ],
            "image/png": "[encoded data removed]"
          },
          "metadata": {
            "needs_background": "light"
          }
        },
        {
          "output_type": "stream",
          "name": "stdout",
          "text": [
            "1 데이터 갯수 : 6\n",
            "Y_Class의 최대값 : 2\n",
            "Y_Class의 최소값 : 1\n",
            "Y_Class의 평균값 : 1.3333333333333333\n",
            "Y_Class의 중앙값 : 1.0\n"
          ]
        },
        {
          "output_type": "stream",
          "name": "stderr",
          "text": [
            "<ipython-input-264-3ac6e3c47aca>:15: MatplotlibDeprecationWarning: Passing the minor parameter of set_xticks() positionally is deprecated since Matplotlib 3.2; the parameter will become keyword-only two minor releases later.\n",
            "  ax[0].set_xticks(range(0,int(df[target].max()+1)), 20)\n"
          ]
        },
        {
          "output_type": "display_data",
          "data": {
            "text/plain": [
              "<Figure size 936x432 with 2 Axes>"
            ],
            "image/png": "[encoded data removed]"
          },
          "metadata": {
            "needs_background": "light"
          }
        }
      ],
      "source": [
        "value_hist2(train_df,\"PRODUCT_CODE\")"
      ]
    },
    {
      "cell_type": "code",
      "source": [
        "value_hist2(train_df,\"LINE\")"
      ],
      "metadata": {
        "colab": {
          "base_uri": "https://localhost:8080/",
          "height": 1000
        },
        "id": "pK2QPkuWRsjB",
        "outputId": "956ecdc3-7bae-4746-af05-b72fe52068b4"
      },
      "execution_count": 267,
      "outputs": [
        {
          "output_type": "stream",
          "name": "stdout",
          "text": [
            "2 데이터 갯수 : 78\n",
            "Y_Class의 최대값 : 2\n",
            "Y_Class의 최소값 : 0\n",
            "Y_Class의 평균값 : 0.7564102564102564\n",
            "Y_Class의 중앙값 : 1.0\n"
          ]
        },
        {
          "output_type": "stream",
          "name": "stderr",
          "text": [
            "<ipython-input-264-3ac6e3c47aca>:15: MatplotlibDeprecationWarning: Passing the minor parameter of set_xticks() positionally is deprecated since Matplotlib 3.2; the parameter will become keyword-only two minor releases later.\n",
            "  ax[0].set_xticks(range(0,int(df[target].max()+1)), 20)\n"
          ]
        },
        {
          "output_type": "display_data",
          "data": {
            "text/plain": [
              "<Figure size 936x432 with 2 Axes>"
            ],
            "image/png": "[encoded data removed]"
          },
          "metadata": {
            "needs_background": "light"
          }
        },
        {
          "output_type": "stream",
          "name": "stdout",
          "text": [
            "3 데이터 갯수 : 42\n",
            "Y_Class의 최대값 : 2\n",
            "Y_Class의 최소값 : 0\n",
            "Y_Class의 평균값 : 1.2619047619047619\n",
            "Y_Class의 중앙값 : 2.0\n"
          ]
        },
        {
          "output_type": "stream",
          "name": "stderr",
          "text": [
            "<ipython-input-264-3ac6e3c47aca>:15: MatplotlibDeprecationWarning: Passing the minor parameter of set_xticks() positionally is deprecated since Matplotlib 3.2; the parameter will become keyword-only two minor releases later.\n",
            "  ax[0].set_xticks(range(0,int(df[target].max()+1)), 20)\n"
          ]
        },
        {
          "output_type": "display_data",
          "data": {
            "text/plain": [
              "<Figure size 936x432 with 2 Axes>"
            ],
            "image/png": "[encoded data removed]"
          },
          "metadata": {
            "needs_background": "light"
          }
        },
        {
          "output_type": "stream",
          "name": "stdout",
          "text": [
            "4 데이터 갯수 : 175\n",
            "Y_Class의 최대값 : 2\n",
            "Y_Class의 최소값 : 0\n",
            "Y_Class의 평균값 : 0.9828571428571429\n",
            "Y_Class의 중앙값 : 1.0\n"
          ]
        },
        {
          "output_type": "stream",
          "name": "stderr",
          "text": [
            "<ipython-input-264-3ac6e3c47aca>:15: MatplotlibDeprecationWarning: Passing the minor parameter of set_xticks() positionally is deprecated since Matplotlib 3.2; the parameter will become keyword-only two minor releases later.\n",
            "  ax[0].set_xticks(range(0,int(df[target].max()+1)), 20)\n"
          ]
        },
        {
          "output_type": "display_data",
          "data": {
            "text/plain": [
              "<Figure size 936x432 with 2 Axes>"
            ],
            "image/png": "[encoded data removed]"
          },
          "metadata": {
            "needs_background": "light"
          }
        },
        {
          "output_type": "stream",
          "name": "stdout",
          "text": [
            "5 데이터 갯수 : 174\n",
            "Y_Class의 최대값 : 2\n",
            "Y_Class의 최소값 : 0\n",
            "Y_Class의 평균값 : 1.0402298850574712\n",
            "Y_Class의 중앙값 : 1.0\n"
          ]
        },
        {
          "output_type": "stream",
          "name": "stderr",
          "text": [
            "<ipython-input-264-3ac6e3c47aca>:15: MatplotlibDeprecationWarning: Passing the minor parameter of set_xticks() positionally is deprecated since Matplotlib 3.2; the parameter will become keyword-only two minor releases later.\n",
            "  ax[0].set_xticks(range(0,int(df[target].max()+1)), 20)\n"
          ]
        },
        {
          "output_type": "display_data",
          "data": {
            "text/plain": [
              "<Figure size 936x432 with 2 Axes>"
            ],
            "image/png": "[encoded data removed]"
          },
          "metadata": {
            "needs_background": "light"
          }
        },
        {
          "output_type": "stream",
          "name": "stdout",
          "text": [
            "1 데이터 갯수 : 70\n",
            "Y_Class의 최대값 : 2\n",
            "Y_Class의 최소값 : 0\n",
            "Y_Class의 평균값 : 1.3\n",
            "Y_Class의 중앙값 : 1.0\n"
          ]
        },
        {
          "output_type": "stream",
          "name": "stderr",
          "text": [
            "<ipython-input-264-3ac6e3c47aca>:15: MatplotlibDeprecationWarning: Passing the minor parameter of set_xticks() positionally is deprecated since Matplotlib 3.2; the parameter will become keyword-only two minor releases later.\n",
            "  ax[0].set_xticks(range(0,int(df[target].max()+1)), 20)\n"
          ]
        },
        {
          "output_type": "display_data",
          "data": {
            "text/plain": [
              "<Figure size 936x432 with 2 Axes>"
            ],
            "image/png": "[encoded data removed]"
          },
          "metadata": {
            "needs_background": "light"
          }
        },
        {
          "output_type": "stream",
          "name": "stdout",
          "text": [
            "0 데이터 갯수 : 59\n",
            "Y_Class의 최대값 : 2\n",
            "Y_Class의 최소값 : 0\n",
            "Y_Class의 평균값 : 0.9661016949152542\n",
            "Y_Class의 중앙값 : 1.0\n"
          ]
        },
        {
          "output_type": "stream",
          "name": "stderr",
          "text": [
            "<ipython-input-264-3ac6e3c47aca>:15: MatplotlibDeprecationWarning: Passing the minor parameter of set_xticks() positionally is deprecated since Matplotlib 3.2; the parameter will become keyword-only two minor releases later.\n",
            "  ax[0].set_xticks(range(0,int(df[target].max()+1)), 20)\n"
          ]
        },
        {
          "output_type": "display_data",
          "data": {
            "text/plain": [
              "<Figure size 936x432 with 2 Axes>"
            ],
            "image/png": "[encoded data removed]"
          },
          "metadata": {
            "needs_background": "light"
          }
        }
      ]
    },
    {
      "cell_type": "code",
      "source": [
        "code = train_df[\"PRODUCT_CODE\"].unique()\n",
        "\n",
        "train_product = [] \n",
        "for i in code :\n",
        "  train_product.append(train_df.loc[train_df['PRODUCT_CODE'].isin([i])])\n",
        "\n",
        "train_line = []\n",
        "for df in train_product : \n",
        "  line = df['LINE'].unique() \n",
        "  for i in line : \n",
        "      train_line.append(df.loc[df['LINE'].isin([i])])\n",
        "\n",
        "comb = []\n",
        "cols = dict()\n",
        "for df in train_line :\n",
        "  size = len(df)\n",
        "  comb.append((df['PRODUCT_CODE'].unique()[0], df[\"LINE\"].unique()[0]))\n",
        "  cols[comb[-1]] = []\n",
        "  for col in df.columns : \n",
        "    if (df[col].isnull().sum() == size) :\n",
        "      cols[comb[-1]].append(col)\n",
        "\n",
        "for i in range(len(train_line)) :\n",
        "  train_line[i] = train_line[i].fillna(train_line[i].mean()) # 결측치 처리 \n",
        "  train_line[i] = train_line[i].fillna(0)\n",
        "comb"
      ],
      "metadata": {
        "id": "xONvJBxTgTC9",
        "colab": {
          "base_uri": "https://localhost:8080/"
        },
        "outputId": "bd2570af-8d66-46f5-9084-0ed6d0c661d7"
      },
      "execution_count": 268,
      "outputs": [
        {
          "output_type": "execute_result",
          "data": {
            "text/plain": [
              "[(0, 2), (0, 3), (0, 1), (0, 0), (2, 4), (2, 5), (1, 4), (1, 5)]"
            ]
          },
          "metadata": {},
          "execution_count": 268
        }
      ]
    },
    {
      "cell_type": "code",
      "source": [
        "from scipy.stats import pearsonr\n",
        "\n",
        "select_features = dict() \n",
        "cnt = 0\n",
        "for df in train_line :  \n",
        "  df = df.drop(cols[comb[cnt]], axis = 1)\n",
        "  df = df.drop([\"Y_Class\", \"Y_Quality\"], axis = 1)\n",
        " \n",
        "# Calculate the Pearson's correlation coefficient for each feature\n",
        "  correlation_matrix = np.corrcoef(df.values.T)\n",
        "\n",
        "# Select the features with a correlation coefficient above a certain threshold\n",
        "  threshold = 0.8\n",
        "  relevant_features = []\n",
        "  for i in range(len(correlation_matrix)):\n",
        "      for j in range(i+1, len(correlation_matrix)):\n",
        "          if abs(correlation_matrix[i][j]) > threshold:\n",
        "              relevant_features.append(df.columns[i])\n",
        "\n",
        "  relevant_features = list(set(relevant_features))\n",
        "  print(len(relevant_features))\n",
        "  select_features[comb[cnt]] = relevant_features\n",
        "  cnt += 1"
      ],
      "metadata": {
        "colab": {
          "base_uri": "https://localhost:8080/"
        },
        "id": "yieACfYuG3Rh",
        "outputId": "dab17bd2-7b3d-42ab-abb9-81881a120590"
      },
      "execution_count": 272,
      "outputs": [
        {
          "output_type": "stream",
          "name": "stderr",
          "text": [
            "/usr/local/lib/python3.8/dist-packages/numpy/lib/function_base.py:2691: RuntimeWarning: invalid value encountered in true_divide\n",
            "  c /= stddev[:, None]\n",
            "/usr/local/lib/python3.8/dist-packages/numpy/lib/function_base.py:2692: RuntimeWarning: invalid value encountered in true_divide\n",
            "  c /= stddev[None, :]\n"
          ]
        },
        {
          "output_type": "stream",
          "name": "stdout",
          "text": [
            "1099\n",
            "1231\n",
            "401\n",
            "420\n",
            "269\n",
            "265\n",
            "443\n",
            "436\n"
          ]
        }
      ]
    },
    {
      "cell_type": "code",
      "source": [
        "import xgboost as xgb\n",
        "\n",
        "model = dict()\n",
        "cnt = 0\n",
        "\n",
        "for df in train_line :\n",
        "  y_train = df[\"Y_Class\"]\n",
        "  X_train = df[select_features[comb[cnt]]]\n",
        "  clf = xgb.XGBClassifier(n_jobs=-1)\n",
        "  clf.fit(X_train, y_train)\n",
        "  model[comb[cnt]] = clf\n",
        "  cnt += 1"
      ],
      "metadata": {
        "id": "VsrDq4awP08q"
      },
      "execution_count": 274,
      "outputs": []
    },
    {
      "cell_type": "code",
      "source": [
        "model"
      ],
      "metadata": {
        "colab": {
          "base_uri": "https://localhost:8080/"
        },
        "id": "RSlfObUNRy7T",
        "outputId": "5779e384-db52-4093-bc70-022283224735"
      },
      "execution_count": 275,
      "outputs": [
        {
          "output_type": "execute_result",
          "data": {
            "text/plain": [
              "{(0, 2): XGBClassifier(n_jobs=-1, objective='multi:softprob'),\n",
              " (0, 3): XGBClassifier(n_jobs=-1, objective='multi:softprob'),\n",
              " (0, 1): XGBClassifier(n_jobs=-1, objective='multi:softprob'),\n",
              " (0, 0): XGBClassifier(n_jobs=-1, objective='multi:softprob'),\n",
              " (2, 4): XGBClassifier(n_jobs=-1, objective='multi:softprob'),\n",
              " (2, 5): XGBClassifier(n_jobs=-1, objective='multi:softprob'),\n",
              " (1, 4): XGBClassifier(n_jobs=-1),\n",
              " (1, 5): XGBClassifier(n_jobs=-1)}"
            ]
          },
          "metadata": {},
          "execution_count": 275
        }
      ]
    },
    {
      "cell_type": "code",
      "source": [
        "submit = pd.read_csv('/content/drive/MyDrive/LGAimers/sample_submission.csv')"
      ],
      "metadata": {
        "id": "_9bABkE6R2Io"
      },
      "execution_count": 276,
      "outputs": []
    },
    {
      "cell_type": "code",
      "source": [
        "# comb = [(0, 2), (0, 3), (0, 1), (0, 0), (2, 4), (2, 5), (1, 4), (1, 5)]"
      ],
      "metadata": {
        "id": "mP-sEwmEUixk"
      },
      "execution_count": 277,
      "outputs": []
    },
    {
      "cell_type": "code",
      "source": [
        "t = dict()\n",
        "for i in range(len(comb)) :\n",
        "  t[comb[i]] = train_line[i]"
      ],
      "metadata": {
        "id": "bmKSJDq9VDZV"
      },
      "execution_count": 278,
      "outputs": []
    },
    {
      "cell_type": "code",
      "source": [
        "y_preds = []\n",
        "\n",
        "for i in range(len(test_df)) :\n",
        "  row = pd.DataFrame(test_df.iloc[i])\n",
        "  row = np.transpose(row)\n",
        "  name = (row['PRODUCT_CODE'][i], row['LINE'][i])\n",
        "  test_row = row[select_features[name]]\n",
        "  test_row.fillna(t[name].mean())\n",
        "  test_row.fillna(0)\n",
        "  y_preds.append(model[name].predict(test_row)[0])\n"
      ],
      "metadata": {
        "id": "3eTmEQcSS6Fc"
      },
      "execution_count": 326,
      "outputs": []
    },
    {
      "cell_type": "code",
      "source": [
        "y_preds"
      ],
      "metadata": {
        "id": "pS5n7Y8ZS-l2"
      },
      "execution_count": null,
      "outputs": []
    },
    {
      "cell_type": "code",
      "source": [
        "submit['Y_Class'] = y_preds\n",
        "submit.to_csv('./submission.csv', index=False)"
      ],
      "metadata": {
        "id": "f6rrntEvYkfr"
      },
      "execution_count": 329,
      "outputs": []
    },
    {
      "cell_type": "code",
      "source": [],
      "metadata": {
        "id": "R4JF0vJeZzka"
      },
      "execution_count": null,
      "outputs": []
    }
  ],
  "metadata": {
    "colab": {
      "provenance": [],
      "include_colab_link": true
    },
    "kernelspec": {
      "display_name": "Python 3",
      "name": "python3"
    },
    "language_info": {
      "name": "python"
    }
  },
  "nbformat": 4,
  "nbformat_minor": 0
}