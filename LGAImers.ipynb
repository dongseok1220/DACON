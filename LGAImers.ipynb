{
  "cells": [
    {
      "cell_type": "markdown",
      "metadata": {
        "id": "view-in-github",
        "colab_type": "text"
      },
      "source": [
        "<a href=\"https://colab.research.google.com/github/sgu20191619/DACON/blob/main/LGAImers.ipynb\" target=\"_parent\"><img src=\"https://colab.research.google.com/assets/colab-badge.svg\" alt=\"Open In Colab\"/></a>"
      ]
    },
    {
      "cell_type": "code",
      "source": [
        "!pip install xgboost"
      ],
      "metadata": {
        "colab": {
          "base_uri": "https://localhost:8080/"
        },
        "id": "hu6OEKc4QE8k",
        "outputId": "6763a262-7fbb-4e53-971a-b338ad32faef"
      },
      "execution_count": 307,
      "outputs": [
        {
          "output_type": "stream",
          "name": "stdout",
          "text": [
            "Looking in indexes: https://pypi.org/simple, https://us-python.pkg.dev/colab-wheels/public/simple/\n",
            "Requirement already satisfied: xgboost in /usr/local/lib/python3.8/dist-packages (0.90)\n",
            "Requirement already satisfied: scipy in /usr/local/lib/python3.8/dist-packages (from xgboost) (1.7.3)\n",
            "Requirement already satisfied: numpy in /usr/local/lib/python3.8/dist-packages (from xgboost) (1.22.4)\n"
          ]
        }
      ]
    },
    {
      "cell_type": "code",
      "execution_count": 308,
      "metadata": {
        "id": "cCJFi_13gzy6",
        "colab": {
          "base_uri": "https://localhost:8080/"
        },
        "outputId": "1644bb0e-8238-447d-8462-0d0873849155"
      },
      "outputs": [
        {
          "output_type": "stream",
          "name": "stdout",
          "text": [
            "Drive already mounted at /content/drive; to attempt to forcibly remount, call drive.mount(\"/content/drive\", force_remount=True).\n"
          ]
        }
      ],
      "source": [
        "from google.colab import drive\n",
        "drive.mount('/content/drive')"
      ]
    },
    {
      "cell_type": "code",
      "execution_count": 309,
      "metadata": {
        "id": "Qf9erDPOSOLr"
      },
      "outputs": [],
      "source": [
        "import pandas as pd\n",
        "import numpy as np\n",
        "import matplotlib as mpl\n",
        "import matplotlib.pyplot as plt\n",
        "import seaborn as sns\n",
        "from collections import Counter\n",
        "import sklearn\n",
        "\n",
        "from scipy.stats import pearsonr\n",
        "from sklearn.ensemble import RandomForestClassifier\n",
        "import xgboost as xgb\n",
        "from sklearn.decomposition import PCA\n",
        "from tqdm import tqdm\n",
        "from sklearn.model_selection import GridSearchCV\n",
        "from sklearn.model_selection import train_test_split\n",
        "from sklearn.metrics import accuracy_score\n",
        "from sklearn.svm import SVC\n",
        "from sklearn.neighbors import KNeighborsClassifier\n",
        "from sklearn.linear_model import LogisticRegression\n",
        "from sklearn.tree import DecisionTreeClassifier\n",
        "from sklearn.naive_bayes import GaussianNB\n",
        "from sklearn.ensemble import GradientBoostingClassifier\n",
        "from sklearn.neural_network import MLPClassifier\n",
        "from sklearn.discriminant_analysis import LinearDiscriminantAnalysis\n",
        "from sklearn.linear_model import Perceptron\n",
        "from sklearn.model_selection import KFold\n",
        "from sklearn.metrics import f1_score"
      ]
    },
    {
      "cell_type": "code",
      "execution_count": 310,
      "metadata": {
        "id": "PF7Amq40qmow"
      },
      "outputs": [],
      "source": [
        "def print_statistics(df, col):\n",
        "\n",
        "  max = df[col].max()\n",
        "  min = df[col].min()\n",
        "  mean = df[col].mean()\n",
        "  median = df[col].median()\n",
        "\n",
        "  print(f'{col}의 최대값 : {max}')\n",
        "  print(f'{col}의 최소값 : {min}')\n",
        "  print(f'{col}의 평균값 : {mean}')\n",
        "  print(f'{col}의 중앙값 : {median}')"
      ]
    },
    {
      "cell_type": "code",
      "execution_count": 311,
      "metadata": {
        "id": "rCqdfux5ch_G"
      },
      "outputs": [],
      "source": [
        "def value_hist(df, col, target='Y_Quality'):\n",
        "\n",
        "  for value in df[col].unique():\n",
        "\n",
        "    cond = (df[col]==value)\n",
        "    cond_df = df.loc[cond]\n",
        "\n",
        "    print(f'{value} 데이터 갯수 : {cond_df.shape[0]}')\n",
        "    print_statistics(cond_df, target)\n",
        "\n",
        "    fig, ax = plt.subplots(ncols=2, figsize=(13, 6))\n",
        "\n",
        "    sns.histplot(data=cond_df, x='Y_Quality', ax=ax[0])\n",
        "    ax[0].set_title(f'{col} {value}')\n",
        "    ax[0].set_xticks(range(0,int(df[target].max()+1)), 20)\n",
        "\n",
        "    sns.boxplot(data=cond_df, x='Y_Quality', ax=ax[1])\n",
        "    ax[1].set_title(f'{col} {value} Box Plot')\n",
        "    \n",
        "    plt.show()"
      ]
    },
    {
      "cell_type": "code",
      "execution_count": 312,
      "metadata": {
        "id": "GKFs8mosqXcH"
      },
      "outputs": [],
      "source": [
        "def value_hist2(df, col, target='Y_Class'):\n",
        "\n",
        "  for value in df[col].unique():\n",
        "\n",
        "    cond = (df[col]==value)\n",
        "    cond_df = df.loc[cond]\n",
        "\n",
        "    print(f'{value} 데이터 갯수 : {cond_df.shape[0]}')\n",
        "    print_statistics(cond_df, target)\n",
        "\n",
        "    fig, ax = plt.subplots(ncols=2, figsize=(13, 6))\n",
        "\n",
        "    sns.histplot(data=cond_df, x='Y_Class', ax=ax[0])\n",
        "    ax[0].set_title(f'{col} {value}')\n",
        "    ax[0].set_xticks(range(0,int(df[target].max()+1)), 20)\n",
        "\n",
        "    sns.boxplot(data=cond_df, x='Y_Class', ax=ax[1])\n",
        "    ax[1].set_title(f'{col} {value} Box Plot')\n",
        "    \n",
        "    plt.show()\n",
        "    return cond_df[target].mean()"
      ]
    },
    {
      "cell_type": "code",
      "source": [
        "def remove_outliers(df, threshold):\n",
        "    # Calculate the first and third quartiles for every column\n",
        "    q1 = df.quantile(0.25)\n",
        "    q3 = df.quantile(0.75)\n",
        "\n",
        "    # Calculate the interquartile range (IQR) for every column\n",
        "    iqr = q3 - q1\n",
        "\n",
        "    # Define the lower and upper bounds for identifying outliers for every column\n",
        "    lower_bound = q1 - threshold * iqr\n",
        "    upper_bound = q3 + threshold * iqr\n",
        "\n",
        "    # Replace outliers for every column with the median value of the column\n",
        "    df_clean = df.copy()\n",
        "    for col in df.columns:\n",
        "      if col == \"Y_Class\" or col == \"Y_Quality\" :\n",
        "        continue\n",
        "      outliers_mask = (df_clean[col] < lower_bound[col]) | (df_clean[col] > upper_bound[col])\n",
        "      df_clean.loc[outliers_mask, col] = df_clean[col].median()\n",
        "\n",
        "    return df_clean\n"
      ],
      "metadata": {
        "id": "6jyHdJu70Vmc"
      },
      "execution_count": 313,
      "outputs": []
    },
    {
      "cell_type": "code",
      "source": [
        "import random\n",
        "import os\n",
        "def seed_everything(seed):\n",
        "    random.seed(seed)\n",
        "    os.environ['PYTHONHASHSEED'] = str(seed)\n",
        "    np.random.seed(seed)\n",
        "seed_everything(37) # Seed 고정"
      ],
      "metadata": {
        "id": "cP8vai70wYEh"
      },
      "execution_count": 314,
      "outputs": []
    },
    {
      "cell_type": "code",
      "execution_count": 315,
      "metadata": {
        "id": "z14W_UOZYbxJ"
      },
      "outputs": [],
      "source": [
        "train_df = pd.read_csv(\"/content/drive/MyDrive/LGAimers/train.csv\")\n",
        "test_df = pd.read_csv(\"/content/drive/MyDrive/LGAimers/test.csv\")"
      ]
    },
    {
      "cell_type": "code",
      "source": [
        "train_df = train_df.drop(columns=['PRODUCT_ID', 'TIMESTAMP'])\n",
        "test_df = test_df.drop(columns=['PRODUCT_ID', 'TIMESTAMP'])\n",
        "\n",
        "from sklearn.preprocessing import LabelEncoder\n",
        "\n",
        "qual_col = ['LINE', 'PRODUCT_CODE']\n",
        "\n",
        "for i in qual_col:\n",
        "    le = LabelEncoder()\n",
        "    le = le.fit(train_df[i])\n",
        "    train_df[i] = le.transform(train_df[i])\n",
        "    \n",
        "    for label in np.unique(test_df[i]): \n",
        "        if label not in le.classes_: \n",
        "            le.classes_ = np.append(le.classes_, label)\n",
        "    test_df[i] = le.transform(test_df[i]) \n",
        "print('Done.')"
      ],
      "metadata": {
        "colab": {
          "base_uri": "https://localhost:8080/"
        },
        "id": "TFAD4yvIgeiY",
        "outputId": "b2ed8dd4-211b-4a2e-d67c-b16cd8e1d6b1"
      },
      "execution_count": 316,
      "outputs": [
        {
          "output_type": "stream",
          "name": "stdout",
          "text": [
            "Done.\n"
          ]
        }
      ]
    },
    {
      "cell_type": "code",
      "source": [
        "# 전처리 \n",
        "# LINE CLASS CODE 별로 나누어 결측치 대체 \n",
        "train_class = []\n",
        "for i in range(3) :\n",
        "  train_class.append(train_df.loc[train_df[\"Y_Class\"].isin([i])])\n",
        "\n",
        "line = train_df[\"LINE\"].unique()\n",
        "train_class_line = []\n",
        "for df in train_class :\n",
        "  for l in line :\n",
        "    train_class_line.append(df.loc[df[\"LINE\"].isin([l])])\n",
        "\n",
        "code = train_df[\"PRODUCT_CODE\"].unique()\n",
        "train_class_line_code = [] \n",
        "for df in train_class_line :\n",
        "  for c in code :\n",
        "    train_class_line_code.append(df.loc[df[\"PRODUCT_CODE\"].isin([c])])\n",
        "\n",
        "for i in range(len(train_class_line_code)) :\n",
        "  train_class_line_code[i] = train_class_line_code[i].fillna((train_class_line_code[i].mode() + train_class_line_code[i].mean()) / 2 )\n",
        "  train_class_line_code[i] =  train_class_line_code[i].fillna(0)"
      ],
      "metadata": {
        "id": "T1dwQ7S86BFJ"
      },
      "execution_count": 317,
      "outputs": []
    },
    {
      "cell_type": "code",
      "source": [
        "train = pd.concat(train_class_line_code)\n",
        "train = train.reset_index(drop = True)\n",
        "\n",
        "y_class = train[\"Y_Class\"]\n",
        "y_quality = train[\"Y_Quality\"]\n",
        "\n",
        "train = train.drop(columns=['Y_Class', 'Y_Quality'])\n",
        "X = train "
      ],
      "metadata": {
        "id": "nEp24e6dXnLw"
      },
      "execution_count": 318,
      "outputs": []
    },
    {
      "cell_type": "code",
      "source": [
        "from sklearn.preprocessing import StandardScaler\n",
        "# scaler = StandardScaler()\n",
        "\n",
        "# X = scaler.fit_transform(train)\n",
        "# X = pd.DataFrame(X, columns = train.columns)"
      ],
      "metadata": {
        "id": "8NO8Rrjcq-RV"
      },
      "execution_count": 319,
      "outputs": []
    },
    {
      "cell_type": "code",
      "source": [
        "correlations = []\n",
        "for feature in X.columns:\n",
        "  correlation, _ = pearsonr(X[feature], y_class)\n",
        "  correlations.append(correlation)\n",
        "\n",
        "correlations2 = []\n",
        "for feature in X.columns:\n",
        "    correlation, _ = pearsonr(X[feature], y_quality)\n",
        "    correlations2.append(correlation)\n",
        "\n",
        "k = len(X.columns) // 2 \n",
        "top_k_indices = sorted(range(len(correlations)), key=lambda i: abs(correlations[i]), reverse=True)[:k]\n",
        "top_k_features = X.columns[top_k_indices]\n",
        "\n",
        "top_k_indices = sorted(range(len(correlations2)), key=lambda i: abs(correlations2[i]), reverse=True)[:k]\n",
        "top_k_features2 = X.columns[top_k_indices]\n",
        "\n",
        "features = list(top_k_features) + list(top_k_features2)\n",
        "\n",
        "final_features = list(set(features))\n",
        "\n",
        "X = X[final_features]\n",
        "X.head()"
      ],
      "metadata": {
        "id": "9X4-UYZUazMT"
      },
      "execution_count": null,
      "outputs": []
    },
    {
      "cell_type": "code",
      "source": [
        "# 값이 하나라면 과감하게 column을 drop함\n",
        "const_cols = X.columns[X.nunique() == 1] \n",
        "X = X.drop(const_cols, axis=1)\n",
        "\n",
        "print(const_cols)"
      ],
      "metadata": {
        "id": "6E-j5r_ZXw5c"
      },
      "execution_count": null,
      "outputs": []
    },
    {
      "cell_type": "code",
      "source": [
        "# from sklearn.linear_model import Lasso\n",
        "\n",
        "# scaler = StandardScaler()\n",
        "# X_std = scaler.fit_transform(X)\n",
        "\n",
        "# X_train, X_val, y_train, y_val = train_test_split(X_std, y_class, test_size=0.3, random_state=37)\n",
        "\n",
        "# lasso = Lasso(alpha=0.1)\n",
        "# lasso.fit(X_train, y_train)\n",
        "\n",
        "# # print('Coefficients:', lasso.coef_)\n",
        "# # print('Intercept:', lasso.intercept_)\n",
        "\n",
        "# important_features = X.columns[abs(lasso.coef_) > 0]\n",
        "\n",
        "# print('Important features:', important_features)\n",
        "\n",
        "# X = X[important_features]"
      ],
      "metadata": {
        "id": "oJy0CAMT3m8-"
      },
      "execution_count": 322,
      "outputs": []
    },
    {
      "cell_type": "code",
      "source": [
        "# Validation set으로 여러 기본모델의 스코어 측정 \n",
        "\n",
        "X_train, X_val, y_train, y_val = train_test_split(X, y_class, test_size = 0.2, random_state =37)\n",
        "\n",
        "num = -1\n",
        "\n",
        "xg_clf = xgb.XGBClassifier(\n",
        "    # max_depth= 5,\n",
        "    # eta= 0.001,\n",
        "    # learning_rate= 0.001,\n",
        "    # num_boost_round= 10000,\n",
        "    # #min_child_weight= 3,\n",
        "    # subsample= 0.8,\n",
        "    # #colsample_bytree= 0.8,\n",
        "    # alpha = 0.5\n",
        "  )\n",
        "xg_clf.fit(X_train, y_train)\n",
        "\n",
        "rf_clf = RandomForestClassifier(\n",
        "    # n_estimators=6000, \n",
        "    random_state=37,\n",
        "    # max_depth = 4\n",
        "  )\n",
        "rf_clf.fit(X_train, y_train)\n",
        "\n",
        "gb_clf = GradientBoostingClassifier(\n",
        "    random_state=37,\n",
        "    # n_estimators = 1000, \n",
        "    # max_depth = 4, \n",
        "    # learning_rate = 0.05\n",
        ")\n",
        "gb_clf.fit(X_train, y_train)\n",
        "\n",
        "\n",
        "dt_clf = DecisionTreeClassifier(random_state=37)\n",
        "dt_clf.fit(X_train, y_train)\n",
        "\n",
        "lda_clf = LinearDiscriminantAnalysis()\n",
        "lda_clf.fit(X_train, y_train)\n",
        "\n",
        "print(\"\\n\")\n",
        "y_pred = xg_clf.predict(X_val)\n",
        "accuracy = f1_score(y_val, y_pred, average = 'macro') \n",
        "print(\"XG : \", accuracy, end= '\\n')\n",
        "if (accuracy > num) :\n",
        "  model = xg_clf\n",
        "  num = accuracy\n",
        "\n",
        "y_pred = rf_clf.predict(X_val)\n",
        "accuracy = f1_score(y_val, y_pred, average = 'macro') \n",
        "print(\"RF : \", accuracy, end= '\\n')\n",
        "if (accuracy > num) :\n",
        "  model = rf_clf\n",
        "  num = accuracy\n",
        "\n",
        "y_pred = gb_clf.predict(X_val)\n",
        "accuracy = f1_score(y_val, y_pred, average = 'macro') \n",
        "print(\"GB : \", accuracy, end= '\\n')\n",
        "if (accuracy > num) :\n",
        "  model = gb_clf\n",
        "  num = accuracy\n",
        "\n",
        "y_pred = dt_clf.predict(X_val)\n",
        "accuracy = f1_score(y_val, y_pred, average = 'macro')  \n",
        "print(\"DT : \", accuracy, end= '\\n')\n",
        "if (accuracy > num) :\n",
        "  model = dt_clf\n",
        "  num = accuracy\n",
        "\n",
        "y_pred = lda_clf.predict(X_val)\n",
        "accuracy = f1_score(y_val, y_pred, average = 'macro') \n",
        "print(\"LDA : \", accuracy, end= '\\n')\n",
        "if (accuracy > num) :\n",
        "  model = lda_clf\n",
        "  num = accuracy"
      ],
      "metadata": {
        "id": "MtB7_eMhyHyU"
      },
      "execution_count": null,
      "outputs": []
    },
    {
      "cell_type": "code",
      "source": [
        "model.fit(X, y_class)\n",
        "\n",
        "importances = model.feature_importances_\n",
        "\n",
        "feature_importances = pd.DataFrame({'feature': X.columns, 'importance': importances})\n",
        "\n",
        "feature_importances = feature_importances.sort_values('importance', ascending = False)"
      ],
      "metadata": {
        "id": "zOH-48ksz6HX"
      },
      "execution_count": 324,
      "outputs": []
    },
    {
      "cell_type": "code",
      "source": [
        "feature_importances"
      ],
      "metadata": {
        "id": "PPwDZs9_0Cap"
      },
      "execution_count": null,
      "outputs": []
    },
    {
      "cell_type": "code",
      "source": [
        "arr = feature_importances['importance'][lambda x : x > 0 ]\n",
        "cnt = len(arr)\n",
        "cnt"
      ],
      "metadata": {
        "colab": {
          "base_uri": "https://localhost:8080/"
        },
        "id": "ICQjS7o2zdaD",
        "outputId": "f7b5901a-dbea-4fd8-b47c-17d19226e31f"
      },
      "execution_count": 326,
      "outputs": [
        {
          "output_type": "execute_result",
          "data": {
            "text/plain": [
              "601"
            ]
          },
          "metadata": {},
          "execution_count": 326
        }
      ]
    },
    {
      "cell_type": "code",
      "source": [
        "final_X = X[feature_importances[:cnt]['feature']]"
      ],
      "metadata": {
        "id": "r5zSvlaw2OUi"
      },
      "execution_count": 327,
      "outputs": []
    },
    {
      "cell_type": "code",
      "source": [
        "cnt = 0\n",
        "for col in feature_importances[:cnt]['feature'] : \n",
        "  if (test_df[col].isnull().sum() == 310) :\n",
        "    cnt += 1\n",
        "print(cnt) "
      ],
      "metadata": {
        "colab": {
          "base_uri": "https://localhost:8080/"
        },
        "id": "342TPVo8-fod",
        "outputId": "5f2dc6b0-d941-4e4b-d555-3e38aee758a4"
      },
      "execution_count": 328,
      "outputs": [
        {
          "output_type": "stream",
          "name": "stdout",
          "text": [
            "0\n"
          ]
        }
      ]
    },
    {
      "cell_type": "code",
      "source": [
        "select_model = []\n",
        "\n",
        "X_train, X_val, y_train, y_val = train_test_split(final_X, y_class, test_size = 0.2, random_state =37)\n",
        "\n",
        "xg_clf = xgb.XGBClassifier(\n",
        "    # max_depth= 4,\n",
        "    # eta= 0.001,\n",
        "    # learning_rate= 0.001,\n",
        "    # num_boost_round= 6000,\n",
        "    # min_child_weight= 3,\n",
        "    # subsample= 0.7,\n",
        "    # colsample_bytree= 0.7,\n",
        "    # alpha = 0.5\n",
        ")\n",
        "xg_clf.fit(X_train, y_train)\n",
        "\n",
        "rf_clf = RandomForestClassifier(n_estimators=1000, random_state=37)\n",
        "rf_clf.fit(X_train, y_train)\n",
        "\n",
        "# svm_clf = SVC(kernel='linear', random_state=42)\n",
        "# svm_clf.fit(X_train, y_train)\n",
        "\n",
        "knn_clf = KNeighborsClassifier(n_neighbors=5)\n",
        "knn_clf.fit(X_train, y_train)\n",
        "\n",
        "lr_clf = LogisticRegression(random_state=37)\n",
        "lr_clf.fit(X_train, y_train)\n",
        "\n",
        "gb_clf = GradientBoostingClassifier(\n",
        "    random_state=37,\n",
        "    # n_estimators = 6000, \n",
        "    # max_depth = 4, \n",
        "    # learning_rate = 0.001, \n",
        ")\n",
        "gb_clf.fit(X_train, y_train)\n",
        "\n",
        "nb_clf = GaussianNB()\n",
        "nb_clf.fit(X_train, y_train)\n",
        "\n",
        "dt_clf = DecisionTreeClassifier(random_state=37)\n",
        "dt_clf.fit(X_train, y_train)\n",
        "\n",
        "perc_clf = Perceptron(random_state=37)\n",
        "perc_clf.fit(X_train, y_train)\n",
        "\n",
        "lda_clf = LinearDiscriminantAnalysis()\n",
        "lda_clf.fit(X_train, y_train)\n",
        "\n",
        "mlp_clf = MLPClassifier(random_state=37)\n",
        "mlp_clf.fit(X_train, y_train)\n",
        "\n",
        "print(\"\\n\")\n",
        "y_pred = xg_clf.predict(X_val)\n",
        "accuracy = f1_score(y_val, y_pred, average = 'macro') \n",
        "print(\"XG : \", accuracy, end= '\\n')\n",
        "select_model.append((xg_clf,accuracy))\n",
        "\n",
        "y_pred = rf_clf.predict(X_val)\n",
        "accuracy = f1_score(y_val, y_pred, average = 'macro') \n",
        "print(\"RF : \", accuracy, end= '\\n')\n",
        "select_model.append((rf_clf,accuracy))\n",
        "\n",
        "# y_pred = svm_clf.predict(X_val)\n",
        "# accuracy = f1_score(y_val, y_pred, average = 'macro') \n",
        "# print(\"SVC : \", accuracy, end= '\\n')\n",
        "\n",
        "y_pred = knn_clf.predict(X_val)\n",
        "accuracy = f1_score(y_val, y_pred, average = 'macro') \n",
        "print(\"KNN : \", accuracy, end= '\\n')\n",
        "select_model.append((knn_clf,accuracy))\n",
        "\n",
        "y_pred = lr_clf.predict(X_val)\n",
        "accuracy = f1_score(y_val, y_pred, average = 'macro') \n",
        "print(\"LR : \", accuracy, end= '\\n')\n",
        "select_model.append((lr_clf,accuracy))\n",
        "\n",
        "y_pred = gb_clf.predict(X_val)\n",
        "accuracy = f1_score(y_val, y_pred, average = 'macro') \n",
        "print(\"GB : \", accuracy, end= '\\n')\n",
        "select_model.append((gb_clf,accuracy))\n",
        "\n",
        "y_pred = nb_clf.predict(X_val)\n",
        "accuracy = f1_score(y_val, y_pred, average = 'macro') \n",
        "print(\"NB : \", accuracy, end= '\\n')\n",
        "select_model.append((nb_clf,accuracy))\n",
        "\n",
        "y_pred = dt_clf.predict(X_val)\n",
        "accuracy = f1_score(y_val, y_pred, average = 'macro')  \n",
        "print(\"DT : \", accuracy, end= '\\n')\n",
        "select_model.append((dt_clf,accuracy))\n",
        "\n",
        "y_pred = perc_clf.predict(X_val)\n",
        "accuracy = f1_score(y_val, y_pred, average = 'macro')  \n",
        "print(\"PERC : \", accuracy, end= '\\n')\n",
        "select_model.append((perc_clf,accuracy))\n",
        "\n",
        "y_pred = lda_clf.predict(X_val)\n",
        "accuracy = f1_score(y_val, y_pred, average = 'macro') \n",
        "print(\"LDA : \", accuracy, end= '\\n')\n",
        "select_model.append((lda_clf,accuracy))\n",
        "\n",
        "y_pred = mlp_clf.predict(X_val)\n",
        "accuracy = f1_score(y_val, y_pred, average = 'macro')  \n",
        "print(\"MLP : \", accuracy, end= '\\n')\n",
        "select_model.append((mlp_clf,accuracy))\n"
      ],
      "metadata": {
        "id": "R_UeZPlp2IQE"
      },
      "execution_count": null,
      "outputs": []
    },
    {
      "cell_type": "code",
      "source": [
        "sorted_list = sorted(select_model, key = lambda x : x[1], reverse= True)\n",
        "sorted_list"
      ],
      "metadata": {
        "colab": {
          "base_uri": "https://localhost:8080/"
        },
        "id": "CXCOuK_R3IZb",
        "outputId": "94ad8c7c-0bd3-47b6-a6c1-67be7748c4f1"
      },
      "execution_count": 330,
      "outputs": [
        {
          "output_type": "execute_result",
          "data": {
            "text/plain": [
              "[(GradientBoostingClassifier(random_state=37), 0.7671221532091098),\n",
              " (RandomForestClassifier(n_estimators=1000, random_state=37),\n",
              "  0.7405629458261037),\n",
              " (XGBClassifier(objective='multi:softprob'), 0.7018849071172276),\n",
              " (GaussianNB(), 0.5915412186379928),\n",
              " (LogisticRegression(random_state=37), 0.5866205918837498),\n",
              " (DecisionTreeClassifier(random_state=37), 0.5290699638525725),\n",
              " (KNeighborsClassifier(), 0.5093719502321653),\n",
              " (MLPClassifier(random_state=37), 0.509153648284083),\n",
              " (LinearDiscriminantAnalysis(), 0.46259539655766063),\n",
              " (Perceptron(random_state=37), 0.27257799671592775)]"
            ]
          },
          "metadata": {},
          "execution_count": 330
        }
      ]
    },
    {
      "cell_type": "code",
      "source": [
        "X_train, X_val, y_train, y_val = train_test_split(final_X, y_class, test_size=0.2, random_state=37)\n",
        "\n",
        "base_models = [\n",
        "    GradientBoostingClassifier(random_state=37),\n",
        "    RandomForestClassifier(n_estimators=1000, random_state=37),\n",
        "    xgb.XGBClassifier(\n",
        "      # max_depth= 4,\n",
        "      # eta= 0.001,\n",
        "      # learning_rate= 0.001,\n",
        "      # num_boost_round= 8000,\n",
        "      # min_child_weight= 3,\n",
        "      # subsample= 0.8,\n",
        "      # colsample_bytree= 0.8,\n",
        "      # alpha = 0.5\n",
        "    ),\n",
        "]\n",
        "\n",
        "# Define the meta model\n",
        "meta_model = xgb.XGBClassifier(\n",
        "    # max_depth= 4,\n",
        "    # eta= 0.001,\n",
        "    # learning_rate= 0.001,\n",
        "    # num_boost_round= 10000,\n",
        "    # min_child_weight= 3,\n",
        "    # subsample= 0.7,\n",
        "    # colsample_bytree= 0.7,\n",
        "    # alpha = 0.5\n",
        ")\n",
        "\n",
        "# Define the number of folds for cross-validation\n",
        "n_splits = 5\n",
        "kf = KFold(n_splits=n_splits, shuffle=True, random_state=37)\n",
        "\n",
        "# Create an array to hold the out-of-fold predictions for each base model\n",
        "X_train_meta = np.zeros((X_train.shape[0], len(base_models)))\n",
        "\n",
        "# Train the base models and generate the out-of-fold predictions for the meta model\n",
        "for i, model in enumerate(base_models):\n",
        "    for train_idx, val_idx in kf.split(X_train):\n",
        "        # Split the data into training and validation sets\n",
        "        X_train_fold, X_val_fold = X_train.iloc[train_idx], X_train.iloc[val_idx]\n",
        "        y_train_fold, y_val_fold = y_train.iloc[train_idx], y_train.iloc[val_idx]\n",
        "\n",
        "        # Train the model on the training set\n",
        "        model.fit(X_train_fold, y_train_fold)\n",
        "\n",
        "        # Generate predictions for the validation set\n",
        "        y_val_pred = model.predict(X_val_fold)\n",
        "\n",
        "        # Save the predictions for the validation set\n",
        "        X_train_meta[val_idx, i] = y_val_pred\n",
        "\n",
        "# Train the meta model on the out-of-fold predictions\n",
        "meta_model.fit(X_train_meta, y_train)\n",
        "\n",
        "# Generate the predictions for the test set\n",
        "X_test_meta = np.zeros((X_val.shape[0], len(base_models)))\n",
        "for i, model in enumerate(base_models):\n",
        "    # Train the model on the full training set\n",
        "    model.fit(X_train, y_train)\n",
        "\n",
        "    # Generate predictions for the test set\n",
        "    y_test_pred = model.predict(X_val)\n",
        "    print(y_test_pred)\n",
        "    # Save the predictions for the test set\n",
        "    X_test_meta[:, i] = y_test_pred\n",
        "\n",
        "# Generate the final predictions using the meta model\n",
        "y_pred = meta_model.predict(X_test_meta)\n",
        "\n",
        "# Evaluate the performance of the final predictions\n",
        "accuracy = f1_score(y_val, y_pred, average='macro')\n",
        "print(\"F1 score:\", accuracy)"
      ],
      "metadata": {
        "colab": {
          "base_uri": "https://localhost:8080/"
        },
        "id": "E6aVwe3MRHN6",
        "outputId": "5a06dc61-b2e3-4d52-f51d-8ac90ce4f533"
      },
      "execution_count": 331,
      "outputs": [
        {
          "output_type": "stream",
          "name": "stdout",
          "text": [
            "[1 2 2 1 1 1 0 1 1 2 1 0 1 1 1 1 1 2 1 2 1 1 0 1 1 2 1 1 0 1 1 1 1 1 0 1 1\n",
            " 1 1 1 1 1 2 2 1 1 2 2 1 1 1 0 1 2 1 1 1 1 1 2 1 1 1 1 2 1 1 1 2 0 1 1 1 1\n",
            " 1 1 1 2 2 1 1 1 0 1 1 1 1 2 1 1 1 1 1 1 1 1 1 1 1 1 1 1 1 2 1 1 1 1 1 0 1\n",
            " 1 0 1 1 1 1 1 1 1]\n",
            "[1 2 2 1 1 1 0 1 1 1 1 1 1 1 1 1 1 2 1 1 1 1 1 1 1 1 1 1 0 1 1 1 1 1 0 1 1\n",
            " 1 1 1 1 1 2 1 1 1 2 2 1 1 1 0 1 2 1 1 1 1 1 2 1 1 1 1 2 1 1 1 2 0 1 1 1 1\n",
            " 1 1 1 1 2 1 1 1 0 1 1 1 1 2 1 1 1 1 0 1 1 2 1 1 1 1 1 1 1 2 1 1 1 1 1 1 1\n",
            " 1 1 1 1 1 1 1 1 1]\n",
            "[1 2 2 1 1 1 0 1 1 2 1 1 1 1 1 1 1 2 1 1 1 1 1 1 1 1 1 1 1 2 1 1 1 1 0 1 1\n",
            " 1 1 1 1 1 2 1 1 1 2 2 1 1 1 0 1 2 1 1 1 1 1 2 1 1 1 1 2 1 1 1 2 0 1 1 1 1\n",
            " 1 1 1 2 2 1 1 1 0 1 1 1 1 2 1 1 1 1 1 1 1 2 1 1 1 1 1 1 1 2 1 1 1 1 1 1 1\n",
            " 1 0 0 1 1 1 1 1 1]\n",
            "F1 score: 0.7710327705301316\n"
          ]
        }
      ]
    },
    {
      "cell_type": "code",
      "source": [
        "# code 별 line별로 나눈다 -> test 결측치 채우기 위해서 \n",
        "temp = dict()\n",
        "\n",
        "line = train_df[\"LINE\"].unique()\n",
        "train_line = []\n",
        "for l in line :\n",
        "  train_line.append(train.loc[train[\"LINE\"].isin([l])])\n",
        "\n",
        "code = train_df[\"PRODUCT_CODE\"].unique()\n",
        "for df in train_line :\n",
        "  for c in code :\n",
        "    name = (c, df[\"LINE\"].unique()[0])\n",
        "    temp[name] = df.loc[df[\"PRODUCT_CODE\"].isin([c])]"
      ],
      "metadata": {
        "id": "t-Z1kj5_HQn_"
      },
      "execution_count": 332,
      "outputs": []
    },
    {
      "cell_type": "code",
      "source": [
        "# Stacking 및 test_df 전처리 \n",
        "new_test = pd.DataFrame()\n",
        "cols = final_X.columns \n",
        "\n",
        "for i in range(len(test_df)) :\n",
        "  row = pd.DataFrame(test_df.iloc[i])\n",
        "  row = np.transpose(row)\n",
        "  name = (row['PRODUCT_CODE'][i], row['LINE'][i])\n",
        "\n",
        "  test_row = row[cols]\n",
        "  #test_row = test_row.fillna(temp[name].mode())\n",
        "  test_row = test_row.fillna( (temp[name].mode() + temp[name].mean()) /2 )\n",
        "  test_row = test_row.fillna(0)\n",
        "  \n",
        "  new_test = pd.concat([new_test, test_row])\n"
      ],
      "metadata": {
        "id": "iR6ieuOu2Avr"
      },
      "execution_count": 334,
      "outputs": []
    },
    {
      "cell_type": "code",
      "source": [
        "X_test_meta = np.zeros((new_test.shape[0], len(base_models)))\n",
        "for i, model in enumerate(base_models):\n",
        "    model.fit(final_X, y_class)\n",
        "\n",
        "    y_test_pred = model.predict(new_test)\n",
        "    print(y_test_pred)\n",
        "    plt.hist(y_test_pred)\n",
        "    plt.show()\n",
        "    X_test_meta[:, i] = y_test_pred\n",
        "\n",
        "y_pred = meta_model.predict(X_test_meta)"
      ],
      "metadata": {
        "id": "iGrYoB5VbKJQ",
        "colab": {
          "base_uri": "https://localhost:8080/",
          "height": 1000
        },
        "outputId": "50cc9161-c09e-440f-b6ae-aafbc5d1fe64"
      },
      "execution_count": 335,
      "outputs": [
        {
          "output_type": "stream",
          "name": "stdout",
          "text": [
            "[1 1 1 0 0 1 1 0 1 1 1 1 1 0 0 1 1 1 1 1 1 1 1 1 1 1 1 1 1 1 1 1 1 1 1 0 0\n",
            " 0 2 0 0 0 0 1 1 1 1 1 1 1 1 1 1 1 1 1 1 1 1 1 1 1 0 0 1 1 1 1 1 1 1 0 1 1\n",
            " 1 2 1 1 2 0 2 1 2 1 1 1 0 0 0 0 2 1 2 1 1 1 1 2 1 1 1 2 1 2 1 1 2 1 2 1 1\n",
            " 1 1 1 1 1 1 1 1 2 1 1 1 1 1 1 1 1 1 0 0 0 2 1 1 1 1 2 2 1 1 0 0 1 2 2 1 2\n",
            " 1 1 1 2 1 1 1 1 1 1 2 1 2 2 1 2 1 1 1 1 1 1 1 1 1 1 1 1 1 1 1 2 1 1 1 1 1\n",
            " 1 1 2 1 1 1 2 1 1 1 1 1 1 1 1 1 1 1 1 1 1 1 1 1 1 1 1 1 1 1 1 1 1 1 1 1 1\n",
            " 1 1 1 1 1 1 1 1 1 1 1 1 1 1 1 1 1 1 1 1 1 1 1 1 1 1 0 0 0 0 0 0 0 0 1 1 1\n",
            " 1 2 1 1 1 1 1 1 1 1 1 1 1 1 1 1 1 1 1 1 1 1 1 1 1 1 1 1 1 1 1 1 1 1 1 1 1\n",
            " 1 1 1 1 1 1 1 1 2 1 1 1 1 1]\n"
          ]
        },
        {
          "output_type": "display_data",
          "data": {
            "text/plain": [
              "<Figure size 432x288 with 1 Axes>"
            ],
            "image/png": "[encoded data removed]"
          },
          "metadata": {
            "needs_background": "light"
          }
        },
        {
          "output_type": "stream",
          "name": "stdout",
          "text": [
            "[1 1 1 1 1 1 1 0 0 1 1 1 1 0 0 1 1 1 1 1 1 1 1 1 1 1 1 1 1 1 1 1 1 1 1 0 0\n",
            " 0 1 0 1 0 0 1 1 1 1 1 1 1 1 1 0 1 1 1 1 1 1 1 1 0 0 0 0 0 0 1 1 1 1 0 1 1\n",
            " 1 1 1 1 1 1 1 1 1 1 1 1 0 1 0 1 1 1 1 1 1 1 1 1 1 1 1 1 1 1 1 1 1 1 1 1 1\n",
            " 1 1 1 1 1 1 1 1 1 1 1 1 1 1 1 1 1 1 1 2 2 2 1 1 1 1 1 1 1 1 1 1 1 1 1 1 1\n",
            " 1 1 1 1 1 1 1 1 1 1 1 1 1 1 1 1 1 1 1 1 1 1 1 1 1 1 1 1 1 1 1 1 1 1 1 1 1\n",
            " 1 1 1 1 1 1 1 1 1 1 1 1 1 1 1 1 1 1 1 1 1 1 1 1 1 1 1 1 1 1 1 1 1 1 1 1 1\n",
            " 1 1 1 1 1 1 1 1 1 1 1 1 1 1 1 1 1 1 1 1 1 1 1 1 1 1 2 2 2 2 2 2 0 2 1 1 1\n",
            " 1 2 1 1 2 1 1 1 1 1 1 1 1 1 1 1 1 1 1 1 1 2 2 2 2 0 0 0 1 1 1 1 1 2 2 1 1\n",
            " 1 1 1 1 1 1 1 1 1 1 1 1 1 1]\n"
          ]
        },
        {
          "output_type": "display_data",
          "data": {
            "text/plain": [
              "<Figure size 432x288 with 1 Axes>"
            ],
            "image/png": "[encoded data removed]"
          },
          "metadata": {
            "needs_background": "light"
          }
        },
        {
          "output_type": "stream",
          "name": "stdout",
          "text": [
            "[1 1 1 1 1 1 1 0 0 1 1 1 1 0 0 1 1 1 1 1 1 1 1 1 1 1 1 1 1 1 1 1 1 1 1 0 0\n",
            " 0 2 0 2 0 0 1 1 1 1 1 1 1 1 1 0 0 0 1 1 1 1 1 1 2 0 0 0 0 0 1 1 1 1 0 1 1\n",
            " 1 1 1 1 1 1 1 1 1 1 1 1 0 1 0 1 1 1 1 1 1 1 1 1 1 1 1 1 1 1 1 1 1 1 1 1 1\n",
            " 1 1 1 1 1 1 1 1 1 1 1 1 1 1 1 1 1 1 0 2 0 2 1 1 1 1 1 1 1 1 1 1 1 1 1 1 1\n",
            " 1 1 1 1 1 1 1 1 1 1 1 1 1 2 1 1 1 1 1 1 1 1 1 1 1 1 1 1 1 1 1 1 1 1 1 1 1\n",
            " 1 1 1 1 1 1 1 1 1 1 1 1 1 1 1 1 1 1 1 1 1 1 1 1 1 1 1 1 1 1 1 1 1 1 1 1 1\n",
            " 1 1 1 1 1 1 1 1 1 1 1 1 1 1 1 1 1 1 1 1 1 1 1 1 1 1 0 2 2 0 2 0 2 2 1 1 1\n",
            " 1 2 1 1 2 1 1 1 1 1 1 1 1 1 1 1 1 1 1 1 1 2 1 2 2 0 2 2 1 1 1 1 1 2 0 1 1\n",
            " 1 1 1 1 1 1 1 1 1 1 1 1 1 1]\n"
          ]
        },
        {
          "output_type": "display_data",
          "data": {
            "text/plain": [
              "<Figure size 432x288 with 1 Axes>"
            ],
            "image/png": "[encoded data removed]"
          },
          "metadata": {
            "needs_background": "light"
          }
        }
      ]
    },
    {
      "cell_type": "code",
      "source": [
        "print(y_pred)\n",
        "plt.hist(y_pred)"
      ],
      "metadata": {
        "id": "z-IJ9HeC9nSD",
        "colab": {
          "base_uri": "https://localhost:8080/",
          "height": 486
        },
        "outputId": "8e194088-563d-4afc-9443-05d5378ad224"
      },
      "execution_count": 336,
      "outputs": [
        {
          "output_type": "stream",
          "name": "stdout",
          "text": [
            "[1 1 1 0 0 1 1 0 0 1 1 1 1 0 0 1 1 1 1 1 1 1 1 1 1 1 1 1 1 1 1 1 1 1 1 0 0\n",
            " 0 2 0 2 0 0 1 1 1 1 1 1 1 1 1 0 1 1 1 1 1 1 1 1 2 0 0 0 0 0 1 1 1 1 0 1 1\n",
            " 1 2 1 1 2 0 2 1 2 1 1 1 0 0 0 0 2 1 2 1 1 1 1 2 1 1 1 2 1 2 1 1 2 1 2 1 1\n",
            " 1 1 1 1 1 1 1 1 2 1 1 1 1 1 1 1 1 1 0 2 2 2 1 1 1 1 2 2 1 1 0 0 1 2 2 1 2\n",
            " 1 1 1 2 1 1 1 1 1 1 2 1 2 2 1 2 1 1 1 1 1 1 1 1 1 1 1 1 1 1 1 2 1 1 1 1 1\n",
            " 1 1 2 1 1 1 2 1 1 1 1 1 1 1 1 1 1 1 1 1 1 1 1 1 1 1 1 1 1 1 1 1 1 1 1 1 1\n",
            " 1 1 1 1 1 1 1 1 1 1 1 1 1 1 1 1 1 1 1 1 1 1 1 1 1 1 2 2 2 2 2 2 2 2 1 1 1\n",
            " 1 2 1 1 2 1 1 1 1 1 1 1 1 1 1 1 1 1 1 1 1 2 1 2 2 0 2 2 1 1 1 1 1 2 1 1 1\n",
            " 1 1 1 1 1 1 1 1 2 1 1 1 1 1]\n"
          ]
        },
        {
          "output_type": "execute_result",
          "data": {
            "text/plain": [
              "(array([ 28.,   0.,   0.,   0.,   0., 234.,   0.,   0.,   0.,  48.]),\n",
              " array([0. , 0.2, 0.4, 0.6, 0.8, 1. , 1.2, 1.4, 1.6, 1.8, 2. ]),\n",
              " <BarContainer object of 10 artists>)"
            ]
          },
          "metadata": {},
          "execution_count": 336
        },
        {
          "output_type": "display_data",
          "data": {
            "text/plain": [
              "<Figure size 432x288 with 1 Axes>"
            ],
            "image/png": "[encoded data removed]"
          },
          "metadata": {
            "needs_background": "light"
          }
        }
      ]
    },
    {
      "cell_type": "code",
      "source": [
        "plt.hist(train_df['Y_Class'])"
      ],
      "metadata": {
        "colab": {
          "base_uri": "https://localhost:8080/",
          "height": 320
        },
        "id": "wiYadnMwcD_P",
        "outputId": "4edd965b-6034-48bb-b0cf-33ac71542923"
      },
      "execution_count": 337,
      "outputs": [
        {
          "output_type": "execute_result",
          "data": {
            "text/plain": [
              "(array([ 88.,   0.,   0.,   0.,   0., 407.,   0.,   0.,   0., 103.]),\n",
              " array([0. , 0.2, 0.4, 0.6, 0.8, 1. , 1.2, 1.4, 1.6, 1.8, 2. ]),\n",
              " <BarContainer object of 10 artists>)"
            ]
          },
          "metadata": {},
          "execution_count": 337
        },
        {
          "output_type": "display_data",
          "data": {
            "text/plain": [
              "<Figure size 432x288 with 1 Axes>"
            ],
            "image/png": "[encoded data removed]"
          },
          "metadata": {
            "needs_background": "light"
          }
        }
      ]
    },
    {
      "cell_type": "code",
      "source": [
        "# # model1 = sorted_list[0][0]\n",
        "# # model2 = sorted_list[1][0]\n",
        "# # model3 = sorted_list[2][0]\n",
        "\n",
        "# model1 = base_models[0]\n",
        "# model1.fit(final_X, y_class)\n",
        "# # model2.fit(final_X, y_class)\n",
        "# # model3.fit(final_X, y_class)\n",
        "\n",
        "# preds1 = model1.predict(new_test)\n",
        "# # preds2 = model2.predict(new_test)\n",
        "# # preds3 = model3.predict(new_test)\n",
        "\n",
        "# print(preds1)\n",
        "# # print(preds2)\n",
        "# # print(preds3)\n"
      ],
      "metadata": {
        "id": "D-wB4JdE25qh"
      },
      "execution_count": 338,
      "outputs": []
    },
    {
      "cell_type": "code",
      "source": [
        "submit = pd.read_csv('/content/drive/MyDrive/LGAimers/sample_submission.csv')"
      ],
      "metadata": {
        "id": "_9bABkE6R2Io"
      },
      "execution_count": 339,
      "outputs": []
    },
    {
      "cell_type": "code",
      "source": [
        "# submit['Y_Class'] = preds1\n",
        "# submit.to_csv('./submission_preds1.csv', index=False)\n",
        "# submit['Y_Class'] = preds2 \n",
        "# submit.to_csv('./submission_preds2.csv', index=False)\n",
        "submit['Y_Class'] = y_pred\n",
        "submit.to_csv('./submission_stacking.csv', index = False)"
      ],
      "metadata": {
        "id": "f6rrntEvYkfr"
      },
      "execution_count": 340,
      "outputs": []
    },
    {
      "cell_type": "code",
      "source": [],
      "metadata": {
        "id": "hWH9-teA4xm5"
      },
      "execution_count": null,
      "outputs": []
    }
  ],
  "metadata": {
    "colab": {
      "provenance": [],
      "include_colab_link": true
    },
    "kernelspec": {
      "display_name": "Python 3",
      "name": "python3"
    },
    "language_info": {
      "name": "python"
    }
  },
  "nbformat": 4,
  "nbformat_minor": 0
}